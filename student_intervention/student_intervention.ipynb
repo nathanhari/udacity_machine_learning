{
 "cells": [
  {
   "cell_type": "markdown",
   "metadata": {},
   "source": [
    "# Machine Learning Engineer Nanodegree\n",
    "## Supervised Learning\n",
    "## Project 2: Building a Student Intervention System"
   ]
  },
  {
   "cell_type": "markdown",
   "metadata": {},
   "source": [
    "Welcome to the second project of the Machine Learning Engineer Nanodegree! In this notebook, some template code has already been provided for you, and it will be your job to implement the additional functionality necessary to successfully complete this project. Sections that begin with **'Implementation'** in the header indicate that the following block of code will require additional functionality which you must provide. Instructions will be provided for each section and the specifics of the implementation are marked in the code block with a `'TODO'` statement. Please be sure to read the instructions carefully!\n",
    "\n",
    "In addition to implementing code, there will be questions that you must answer which relate to the project and your implementation. Each section where you will answer a question is preceded by a **'Question X'** header. Carefully read each question and provide thorough answers in the following text boxes that begin with **'Answer:'**. Your project submission will be evaluated based on your answers to each of the questions and the implementation you provide.  \n",
    "\n",
    ">**Note:** Code and Markdown cells can be executed using the **Shift + Enter** keyboard shortcut. In addition, Markdown cells can be edited by typically double-clicking the cell to enter edit mode."
   ]
  },
  {
   "cell_type": "markdown",
   "metadata": {},
   "source": [
    "### Question 1 - Classification vs. Regression\n",
    "*Your goal for this project is to identify students who might need early intervention before they fail to graduate. Which type of supervised learning problem is this, classification or regression? Why?*"
   ]
  },
  {
   "cell_type": "markdown",
   "metadata": {},
   "source": [
    "**Answer: As described, the problem is a (binary) classification problem. This is because we identify students as either \"needs intervention\" or \"does not need intervention.\" Presumeably we could expand this to a bigger classification problem to what type of intervention the student needs (e.g. in what subject).**\n",
    "\n",
    "**Nonetheless, this could be done as a regression probelm to return the probability that someone will fail to graduate without intervention. This could be useful if, for example, there are limited resources for intervention and these need to be given to those it is most likely to help (which could, of course, depend on more than just the probability of failure without intervention).**"
   ]
  },
  {
   "cell_type": "markdown",
   "metadata": {},
   "source": [
    "## Exploring the Data\n",
    "Run the code cell below to load necessary Python libraries and load the student data. Note that the last column from this dataset, `'passed'`, will be our target label (whether the student graduated or didn't graduate). All other columns are features about each student."
   ]
  },
  {
   "cell_type": "code",
   "execution_count": 1,
   "metadata": {
    "collapsed": false
   },
   "outputs": [
    {
     "name": "stdout",
     "output_type": "stream",
     "text": [
      "Student data read successfully!\n"
     ]
    }
   ],
   "source": [
    "# Import libraries\n",
    "import numpy as np\n",
    "import pandas as pd\n",
    "from time import time\n",
    "from sklearn.metrics import f1_score\n",
    "\n",
    "# Read student data\n",
    "student_data = pd.read_csv(\"student-data.csv\")\n",
    "print \"Student data read successfully!\""
   ]
  },
  {
   "cell_type": "code",
   "execution_count": 2,
   "metadata": {
    "collapsed": false
   },
   "outputs": [
    {
     "name": "stdout",
     "output_type": "stream",
     "text": [
      "  school sex  age address famsize Pstatus  Medu  Fedu     Mjob      Fjob  \\\n",
      "0     GP   F   18       U     GT3       A     4     4  at_home   teacher   \n",
      "1     GP   F   17       U     GT3       T     1     1  at_home     other   \n",
      "2     GP   F   15       U     LE3       T     1     1  at_home     other   \n",
      "3     GP   F   15       U     GT3       T     4     2   health  services   \n",
      "4     GP   F   16       U     GT3       T     3     3    other     other   \n",
      "\n",
      "   ...   internet romantic  famrel  freetime  goout Dalc Walc health absences  \\\n",
      "0  ...         no       no       4         3      4    1    1      3        6   \n",
      "1  ...        yes       no       5         3      3    1    1      3        4   \n",
      "2  ...        yes       no       4         3      2    2    3      3       10   \n",
      "3  ...        yes      yes       3         2      2    1    1      5        2   \n",
      "4  ...         no       no       4         3      2    1    2      5        4   \n",
      "\n",
      "  passed  \n",
      "0     no  \n",
      "1     no  \n",
      "2    yes  \n",
      "3    yes  \n",
      "4    yes  \n",
      "\n",
      "[5 rows x 31 columns]\n",
      "('school', ['GP', 'MS'])\n",
      "('sex', ['F', 'M'])\n",
      "('age', [18, 17, 15, 16, 19, 22, 20, 21])\n",
      "('address', ['U', 'R'])\n",
      "('famsize', ['GT3', 'LE3'])\n",
      "('Pstatus', ['A', 'T'])\n",
      "('Medu', [4, 1, 3, 2, 0])\n",
      "('Fedu', [4, 1, 2, 3, 0])\n",
      "('Mjob', ['at_home', 'health', 'other', 'services', 'teacher'])\n",
      "('Fjob', ['teacher', 'other', 'services', 'health', 'at_home'])\n",
      "('reason', ['course', 'other', 'home', 'reputation'])\n",
      "('guardian', ['mother', 'father', 'other'])\n",
      "('traveltime', [2, 1, 3, 4])\n",
      "('studytime', [2, 3, 1, 4])\n",
      "('failures', [0, 3, 2, 1])\n",
      "('schoolsup', ['yes', 'no'])\n",
      "('famsup', ['no', 'yes'])\n",
      "('paid', ['no', 'yes'])\n",
      "('activities', ['no', 'yes'])\n",
      "('nursery', ['yes', 'no'])\n",
      "('higher', ['yes', 'no'])\n",
      "('internet', ['no', 'yes'])\n",
      "('romantic', ['no', 'yes'])\n",
      "('famrel', [4, 5, 3, 1, 2])\n",
      "('freetime', [3, 2, 4, 1, 5])\n",
      "('goout', [4, 3, 2, 1, 5])\n",
      "('Dalc', [1, 2, 5, 3, 4])\n",
      "('Walc', [1, 3, 2, 4, 5])\n",
      "('health', [3, 5, 1, 2, 4])\n",
      "('absences', [6, 4, 10, 2, 0, 16, 14, 7, 8, 25, 12, 54, 18, 26, 20, 56, 24, 28, 5, 13, 15, 22, 3, 21, 1, 75, 30, 19, 9, 11, 38, 40, 23, 17])\n",
      "('passed', ['no', 'yes'])\n"
     ]
    }
   ],
   "source": [
    "print(student_data.head())\n",
    "unique_values = [(c, list(student_data[c].unique())) for c in student_data.columns]\n",
    "for uv in unique_values:\n",
    "    print(uv)"
   ]
  },
  {
   "cell_type": "markdown",
   "metadata": {},
   "source": [
    "### Implementation: Data Exploration\n",
    "Let's begin by investigating the dataset to determine how many students we have information on, and learn about the graduation rate among these students. In the code cell below, you will need to compute the following:\n",
    "- The total number of students, `n_students`.\n",
    "- The total number of features for each student, `n_features`.\n",
    "- The number of those students who passed, `n_passed`.\n",
    "- The number of those students who failed, `n_failed`.\n",
    "- The graduation rate of the class, `grad_rate`, in percent (%).\n"
   ]
  },
  {
   "cell_type": "code",
   "execution_count": 3,
   "metadata": {
    "collapsed": false
   },
   "outputs": [
    {
     "name": "stdout",
     "output_type": "stream",
     "text": [
      "Total number of students: 395\n",
      "Number of features: 30\n",
      "Number of students who passed: 265\n",
      "Number of students who failed: 130\n",
      "Graduation rate of the class: 67.09%\n"
     ]
    }
   ],
   "source": [
    "# TODO: Calculate number of students\n",
    "n_students = len(student_data)\n",
    "\n",
    "# TODO: Calculate number of features\n",
    "n_features = len(student_data.columns) - 1\n",
    "\n",
    "# TODO: Calculate passing students\n",
    "n_passed = len(student_data.loc[student_data['passed'] == 'yes'])\n",
    "\n",
    "# TODO: Calculate failing students\n",
    "n_failed = len(student_data.loc[student_data['passed'] == 'no'])\n",
    "\n",
    "# TODO: Calculate graduation rate\n",
    "grad_rate = float(n_passed)/(n_students) * 100\n",
    "\n",
    "# Print the results\n",
    "print \"Total number of students: {}\".format(n_students)\n",
    "print \"Number of features: {}\".format(n_features)\n",
    "print \"Number of students who passed: {}\".format(n_passed)\n",
    "print \"Number of students who failed: {}\".format(n_failed)\n",
    "print \"Graduation rate of the class: {:.2f}%\".format(grad_rate)"
   ]
  },
  {
   "cell_type": "markdown",
   "metadata": {},
   "source": [
    "## Preparing the Data\n",
    "In this section, we will prepare the data for modeling, training and testing.\n",
    "\n",
    "### Identify feature and target columns\n",
    "It is often the case that the data you obtain contains non-numeric features. This can be a problem, as most machine learning algorithms expect numeric data to perform computations with.\n",
    "\n",
    "Run the code cell below to separate the student data into feature and target columns to see if any features are non-numeric."
   ]
  },
  {
   "cell_type": "code",
   "execution_count": 4,
   "metadata": {
    "collapsed": false
   },
   "outputs": [
    {
     "name": "stdout",
     "output_type": "stream",
     "text": [
      "Feature columns:\n",
      "['school', 'sex', 'age', 'address', 'famsize', 'Pstatus', 'Medu', 'Fedu', 'Mjob', 'Fjob', 'reason', 'guardian', 'traveltime', 'studytime', 'failures', 'schoolsup', 'famsup', 'paid', 'activities', 'nursery', 'higher', 'internet', 'romantic', 'famrel', 'freetime', 'goout', 'Dalc', 'Walc', 'health', 'absences']\n",
      "\n",
      "Target column: passed\n",
      "\n",
      "Feature values:\n",
      "  school sex  age address famsize Pstatus  Medu  Fedu     Mjob      Fjob  \\\n",
      "0     GP   F   18       U     GT3       A     4     4  at_home   teacher   \n",
      "1     GP   F   17       U     GT3       T     1     1  at_home     other   \n",
      "2     GP   F   15       U     LE3       T     1     1  at_home     other   \n",
      "3     GP   F   15       U     GT3       T     4     2   health  services   \n",
      "4     GP   F   16       U     GT3       T     3     3    other     other   \n",
      "\n",
      "    ...    higher internet  romantic  famrel  freetime goout Dalc Walc health  \\\n",
      "0   ...       yes       no        no       4         3     4    1    1      3   \n",
      "1   ...       yes      yes        no       5         3     3    1    1      3   \n",
      "2   ...       yes      yes        no       4         3     2    2    3      3   \n",
      "3   ...       yes      yes       yes       3         2     2    1    1      5   \n",
      "4   ...       yes       no        no       4         3     2    1    2      5   \n",
      "\n",
      "  absences  \n",
      "0        6  \n",
      "1        4  \n",
      "2       10  \n",
      "3        2  \n",
      "4        4  \n",
      "\n",
      "[5 rows x 30 columns]\n"
     ]
    }
   ],
   "source": [
    "# Extract feature columns\n",
    "feature_cols = list(student_data.columns[:-1])\n",
    "\n",
    "# Extract target column 'passed'\n",
    "target_col = student_data.columns[-1] \n",
    "\n",
    "# Show the list of columns\n",
    "print \"Feature columns:\\n{}\".format(feature_cols)\n",
    "print \"\\nTarget column: {}\".format(target_col)\n",
    "\n",
    "# Separate the data into feature data and target data (X_all and y_all, respectively)\n",
    "X_all = student_data[feature_cols]\n",
    "y_all = student_data[target_col]\n",
    "\n",
    "# Show the feature information by printing the first five rows\n",
    "print \"\\nFeature values:\"\n",
    "print X_all.head()"
   ]
  },
  {
   "cell_type": "markdown",
   "metadata": {},
   "source": [
    "### Preprocess Feature Columns\n",
    "\n",
    "As you can see, there are several non-numeric columns that need to be converted! Many of them are simply `yes`/`no`, e.g. `internet`. These can be reasonably converted into `1`/`0` (binary) values.\n",
    "\n",
    "Other columns, like `Mjob` and `Fjob`, have more than two values, and are known as _categorical variables_. The recommended way to handle such a column is to create as many columns as possible values (e.g. `Fjob_teacher`, `Fjob_other`, `Fjob_services`, etc.), and assign a `1` to one of them and `0` to all others.\n",
    "\n",
    "These generated columns are sometimes called _dummy variables_, and we will use the [`pandas.get_dummies()`](http://pandas.pydata.org/pandas-docs/stable/generated/pandas.get_dummies.html?highlight=get_dummies#pandas.get_dummies) function to perform this transformation. Run the code cell below to perform the preprocessing routine discussed in this section."
   ]
  },
  {
   "cell_type": "code",
   "execution_count": 5,
   "metadata": {
    "collapsed": false
   },
   "outputs": [
    {
     "name": "stdout",
     "output_type": "stream",
     "text": [
      "Processed feature columns (48 total features):\n",
      "['school_GP', 'school_MS', 'sex_F', 'sex_M', 'age', 'address_R', 'address_U', 'famsize_GT3', 'famsize_LE3', 'Pstatus_A', 'Pstatus_T', 'Medu', 'Fedu', 'Mjob_at_home', 'Mjob_health', 'Mjob_other', 'Mjob_services', 'Mjob_teacher', 'Fjob_at_home', 'Fjob_health', 'Fjob_other', 'Fjob_services', 'Fjob_teacher', 'reason_course', 'reason_home', 'reason_other', 'reason_reputation', 'guardian_father', 'guardian_mother', 'guardian_other', 'traveltime', 'studytime', 'failures', 'schoolsup', 'famsup', 'paid', 'activities', 'nursery', 'higher', 'internet', 'romantic', 'famrel', 'freetime', 'goout', 'Dalc', 'Walc', 'health', 'absences']\n"
     ]
    }
   ],
   "source": [
    "def preprocess_features(X):\n",
    "    ''' Preprocesses the student data and converts non-numeric binary variables into\n",
    "        binary (0/1) variables. Converts categorical variables into dummy variables. '''\n",
    "    \n",
    "    # Initialize new output DataFrame\n",
    "    output = pd.DataFrame(index = X.index)\n",
    "\n",
    "    # Investigate each feature column for the data\n",
    "    for col, col_data in X.iteritems():\n",
    "        \n",
    "        # If data type is non-numeric, replace all yes/no values with 1/0\n",
    "        if col_data.dtype == object:\n",
    "            col_data = col_data.replace(['yes', 'no'], [1, 0])\n",
    "\n",
    "        # If data type is categorical, convert to dummy variables\n",
    "        if col_data.dtype == object:\n",
    "            # Example: 'school' => 'school_GP' and 'school_MS'\n",
    "            col_data = pd.get_dummies(col_data, prefix = col)  \n",
    "        \n",
    "        # Collect the revised columns\n",
    "        output = output.join(col_data)\n",
    "    \n",
    "    return output\n",
    "\n",
    "X_all = preprocess_features(X_all)\n",
    "print \"Processed feature columns ({} total features):\\n{}\".format(len(X_all.columns), list(X_all.columns))"
   ]
  },
  {
   "cell_type": "code",
   "execution_count": 6,
   "metadata": {
    "collapsed": false
   },
   "outputs": [
    {
     "name": "stdout",
     "output_type": "stream",
     "text": [
      "Number of features: 48\n"
     ]
    }
   ],
   "source": [
    "# Additional Check: Calculate number of features after pre-processing\n",
    "n_features_with_dummies = len(X_all.columns)\n",
    "print \"Number of features: {}\".format(n_features_with_dummies)"
   ]
  },
  {
   "cell_type": "markdown",
   "metadata": {},
   "source": [
    "### Implementation: Training and Testing Data Split\n",
    "So far, we have converted all _categorical_ features into numeric values. For the next step, we split the data (both features and corresponding labels) into training and test sets. In the following code cell below, you will need to implement the following:\n",
    "- Randomly shuffle and split the data (`X_all`, `y_all`) into training and testing subsets.\n",
    "  - Use 300 training points (approximately 75%) and 95 testing points (approximately 25%).\n",
    "  - Set a `random_state` for the function(s) you use, if provided.\n",
    "  - Store the results in `X_train`, `X_test`, `y_train`, and `y_test`."
   ]
  },
  {
   "cell_type": "code",
   "execution_count": 7,
   "metadata": {
    "collapsed": false
   },
   "outputs": [
    {
     "name": "stdout",
     "output_type": "stream",
     "text": [
      "Training set has 300 samples.\n",
      "Testing set has 95 samples.\n",
      "Training labels has 300 samples.\n",
      "Testing labels has 95 samples.\n",
      "Training set has a pass rate of 67.0%\n",
      "Testing set has a pass rate of 67.3684210526%\n"
     ]
    }
   ],
   "source": [
    "# TODO: Import any additional functionality you may need here\n",
    "from sklearn.cross_validation import train_test_split\n",
    "\n",
    "# TODO: Set the number of training points\n",
    "num_train = 300\n",
    "\n",
    "# Set the number of testing points\n",
    "num_test = X_all.shape[0] - num_train\n",
    "\n",
    "# TODO: Shuffle and split the dataset into the number of training and testing points above\n",
    "#X_train = X_all[:num_train]\n",
    "#X_test = X_all[num_train:]\n",
    "#y_train = y_all[:num_train]\n",
    "#y_test = y_all[num_train:]\n",
    "\n",
    "X_train, X_test, y_train, y_test = train_test_split(X_all, y_all, train_size=num_train, random_state=0, stratify=y_all)\n",
    "\n",
    "# Show the results of the split\n",
    "print \"Training set has {} samples.\".format(X_train.shape[0])\n",
    "print \"Testing set has {} samples.\".format(X_test.shape[0])\n",
    "print \"Training labels has {} samples.\".format(y_train.shape[0])\n",
    "print \"Testing labels has {} samples.\".format(y_test.shape[0])\n",
    "\n",
    "#Check to make sure startfiy worked.\n",
    "y_test_df = pd.DataFrame(y_test)\n",
    "pass_rate_test = float(len(y_test_df.loc[y_test_df.passed == 'yes']))/len(y_test)\n",
    "\n",
    "y_train_df = pd.DataFrame(y_train)\n",
    "pass_rate_train = float(len(y_train_df.loc[y_train_df.passed == 'yes']))/len(y_train)\n",
    "print \"Training set has a pass rate of {}%\".format(pass_rate_train*100)\n",
    "print \"Testing set has a pass rate of {}%\".format(pass_rate_test*100)"
   ]
  },
  {
   "cell_type": "markdown",
   "metadata": {},
   "source": [
    "## Training and Evaluating Models\n",
    "In this section, you will choose 3 supervised learning models that are appropriate for this problem and available in `scikit-learn`. You will first discuss the reasoning behind choosing these three models by considering what you know about the data and each model's strengths and weaknesses. You will then fit the model to varying sizes of training data (100 data points, 200 data points, and 300 data points) and measure the F<sub>1</sub> score. You will need to produce three tables (one for each model) that shows the training set size, training time, prediction time, F<sub>1</sub> score on the training set, and F<sub>1</sub> score on the testing set."
   ]
  },
  {
   "cell_type": "markdown",
   "metadata": {},
   "source": [
    "### Question 2 - Model Application\n",
    "*List three supervised learning models that are appropriate for this problem. What are the general applications of each model? What are their strengths and weaknesses? Given what you know about the data, why did you choose these models to be applied?*"
   ]
  },
  {
   "cell_type": "markdown",
   "metadata": {},
   "source": [
    "**Answer: Based on the table below, the following three techniques will be used.**\n",
    "\n",
    "**1. Decision Tree Classifier (DTC)**\n",
    "\n",
    "**2. K-Nearest Neighbor Classifier (KNN)**\n",
    "\n",
    "**3. Support Vector Machine Classifier (SVM)**\n",
    "\n",
    "**These are the three models tend to perform well on data like this. In addition, given my lack of domain knowledge, these three are three models that I can potentially get working well on my own.**\n",
    "\n",
    "|Model|General Application|Strengths|Weakness|Potentially Good For This Problem?|\n",
    "|:-:|:-:|:-:|:-:|:-:|\n",
    "|Decision Tree|Classification and Regression|Good at sussing out complex relationships between the features and the target. Results in an easy to understand structure. Can focus on relevent features and thus get around the curse of dimensionality. Prediction is fast.|Prone to overfitting. Slow to create tree.|Potentially very good. It can select the relvant features and create a good model. However, we will need to be careful to avoid overfitting.|\n",
    "|Linear/Polynomial Regression|Regression|Good at finding equations to map to continuous data. Simple output. Fast to run once model is built. Easy to understand. Training is relatively fast.|Only good for regression. Cannot capture a wide range of relationships.|No. Not suitable for classification.|\n",
    "|K-Nearest Neighbor/Kernel Regression|Classification and regression|Simple to understand. Ability to build domain knowledge (via distance metric).|Lots of processing for each prediction. Without good domain knowledge, it treats all features as equally important (especially with normalization). With a lot of features, the curse of dimensionality is really bad for KNN.|Perhaps, but with such little data and so many features and because I'm not a domain expert, it might be hard to get very good results. But its worth a quick check.|\n",
    "|Neural Networks|Classification and Regression|Theoretically can learn any function.|Complex to get working because of the large number of variations (i.e. the architechture of the neural network). Difficult to explain the inner workings. Can take a lot of training. Because of its power, it is very prone to overfitting.|Probably not. Given the computational limits the school district has, it is unlikely that we can try enough combinations. Also, given how little data there is, the neural network is likely to overfit.|\n",
    "|Support Vector Machines/Kernel Methods|Classification and Regression|Can do well without a lot of data. Easy to build in domain knowledge. Fairly easy to understand. Tends to generalize well to unseen data. Fitting is low on processing and memory. |Without domain knowledge, if the kernel functions don't work, its hard to do much to make it get good results. Training is high in computation and memory usage.|Very likely to produce good results but maybe hard to get great results.|\n",
    "|Bayesian Inference|Classification and Regression|Fairly simple model that is easy to explain. Pretty easy to train.|Need to have good domain knowledge to build the belief network.|Maybe not since I don't have good domain knowledge.|\n",
    "|Boosting|Classification and Regression|Fairly simple to explain. Doesn't overfit. Fairly fast for predicting.|Training can be slow. Need some domain knowledge to come up with the simple rules. Need to have weak learners.|Maybe good, but need to come up with good rules and show there are weak leranrers which maybe too much given the computational restrictions.|"
   ]
  },
  {
   "cell_type": "markdown",
   "metadata": {},
   "source": [
    "### Setup\n",
    "Run the code cell below to initialize three helper functions which you can use for training and testing the three supervised learning models you've chosen above. The functions are as follows:\n",
    "- `train_classifier` - takes as input a classifier and training data and fits the classifier to the data.\n",
    "- `predict_labels` - takes as input a fit classifier, features, and a target labeling and makes predictions using the F<sub>1</sub> score.\n",
    "- `train_predict` - takes as input a classifier, and the training and testing data, and performs `train_clasifier` and `predict_labels`.\n",
    " - This function will report the F<sub>1</sub> score for both the training and testing data separately."
   ]
  },
  {
   "cell_type": "code",
   "execution_count": 8,
   "metadata": {
    "collapsed": false
   },
   "outputs": [],
   "source": [
    "def train_classifier(clf, X_train, y_train):\n",
    "    ''' Fits a classifier to the training data. '''\n",
    "    \n",
    "    # Start the clock, train the classifier, then stop the clock\n",
    "    start = time()\n",
    "    clf.fit(X_train, y_train)\n",
    "    end = time()\n",
    "    \n",
    "    # Print the results\n",
    "    print \"Trained model in {:.4f} seconds\".format(end - start)\n",
    "\n",
    "    \n",
    "def predict_labels(clf, features, target):\n",
    "    ''' Makes predictions using a fit classifier based on F1 score. '''\n",
    "    \n",
    "    # Start the clock, make predictions, then stop the clock\n",
    "    start = time()\n",
    "    y_pred = clf.predict(features)\n",
    "    end = time()\n",
    "    \n",
    "    # Print and return results\n",
    "    print \"Made predictions in {:.4f} seconds.\".format(end - start)\n",
    "    return f1_score(target.values, y_pred, pos_label='yes')\n",
    "\n",
    "\n",
    "def train_predict(clf, X_train, y_train, X_test, y_test):\n",
    "    ''' Train and predict using a classifer based on F1 score. '''\n",
    "    \n",
    "    # Indicate the classifier and the training set size\n",
    "    print \"Training a {} using a training set size of {}. . .\".format(clf.__class__.__name__, len(X_train))\n",
    "    \n",
    "    # Train the classifier\n",
    "    train_classifier(clf, X_train, y_train)\n",
    "    \n",
    "    # Print the results of prediction for both training and testing\n",
    "    print \"F1 score for training set: {:.4f}.\".format(predict_labels(clf, X_train, y_train))\n",
    "    print \"F1 score for test set: {:.4f}.\".format(predict_labels(clf, X_test, y_test))"
   ]
  },
  {
   "cell_type": "markdown",
   "metadata": {},
   "source": [
    "### Implementation: Model Performance Metrics\n",
    "With the predefined functions above, you will now import the three supervised learning models of your choice and run the `train_predict` function for each one. Remember that you will need to train and predict on each classifier for three different training set sizes: 100, 200, and 300. Hence, you should expect to have 9 different outputs below — 3 for each model using the varying training set sizes. In the following code cell, you will need to implement the following:\n",
    "- Import the three supervised learning models you've discussed in the previous section.\n",
    "- Initialize the three models and store them in `clf_A`, `clf_B`, and `clf_C`.\n",
    " - Use a `random_state` for each model you use, if provided.\n",
    " - **Note:** Use the default settings for each model — you will tune one specific model in a later section.\n",
    "- Create the different training set sizes to be used to train each model.\n",
    " - *Do not reshuffle and resplit the data! The new training points should be drawn from `X_train` and `y_train`.*\n",
    "- Fit each model with each training set size and make predictions on the test set (9 in total).  \n",
    "**Note:** Three tables are provided after the following code cell which can be used to store your results."
   ]
  },
  {
   "cell_type": "code",
   "execution_count": 9,
   "metadata": {
    "collapsed": false,
    "scrolled": false
   },
   "outputs": [
    {
     "name": "stdout",
     "output_type": "stream",
     "text": [
      "DecisionTreeClassifier(class_weight=None, criterion='gini', max_depth=None,\n",
      "            max_features=None, max_leaf_nodes=None, min_samples_leaf=1,\n",
      "            min_samples_split=2, min_weight_fraction_leaf=0.0,\n",
      "            presort=False, random_state=5442, splitter='best')\n",
      "\n",
      "\n",
      "Training a DecisionTreeClassifier using a training set size of 100. . .\n",
      "Trained model in 0.0028 seconds\n",
      "Made predictions in 0.0005 seconds.\n",
      "F1 score for training set: 1.0000.\n",
      "Made predictions in 0.0003 seconds.\n",
      "F1 score for test set: 0.7167.\n",
      "Max tree depth: 8\n",
      "\n",
      "\n",
      "Training a DecisionTreeClassifier using a training set size of 200. . .\n",
      "Trained model in 0.0026 seconds\n",
      "Made predictions in 0.0003 seconds.\n",
      "F1 score for training set: 1.0000.\n",
      "Made predictions in 0.0003 seconds.\n",
      "F1 score for test set: 0.7480.\n",
      "Max tree depth: 14\n",
      "\n",
      "\n",
      "Training a DecisionTreeClassifier using a training set size of 300. . .\n",
      "Trained model in 0.0036 seconds\n",
      "Made predictions in 0.0004 seconds.\n",
      "F1 score for training set: 1.0000.\n",
      "Made predictions in 0.0003 seconds.\n",
      "F1 score for test set: 0.7121.\n",
      "Max tree depth: 14\n",
      "\n",
      "\n",
      "KNeighborsClassifier(algorithm='auto', leaf_size=30, metric='minkowski',\n",
      "           metric_params=None, n_jobs=1, n_neighbors=5, p=2,\n",
      "           weights='uniform')\n",
      "\n",
      "\n",
      "Training a KNeighborsClassifier using a training set size of 100. . .\n",
      "Trained model in 0.0010 seconds\n",
      "Made predictions in 0.0027 seconds.\n",
      "F1 score for training set: 0.8592.\n",
      "Made predictions in 0.0024 seconds.\n",
      "F1 score for test set: 0.7910.\n",
      "\n",
      "\n",
      "Training a KNeighborsClassifier using a training set size of 200. . .\n",
      "Trained model in 0.0010 seconds\n",
      "Made predictions in 0.0071 seconds.\n",
      "F1 score for training set: 0.8425.\n",
      "Made predictions in 0.0037 seconds.\n",
      "F1 score for test set: 0.7941.\n",
      "\n",
      "\n",
      "Training a KNeighborsClassifier using a training set size of 300. . .\n",
      "Trained model in 0.0012 seconds\n",
      "Made predictions in 0.0147 seconds.\n",
      "F1 score for training set: 0.8688.\n",
      "Made predictions in 0.0052 seconds.\n",
      "F1 score for test set: 0.7714.\n",
      "\n",
      "\n",
      "SVC(C=1.0, cache_size=200, class_weight=None, coef0=0.0,\n",
      "  decision_function_shape=None, degree=3, gamma='auto', kernel='rbf',\n",
      "  max_iter=-1, probability=False, random_state=None, shrinking=True,\n",
      "  tol=0.001, verbose=False)\n",
      "\n",
      "\n",
      "Training a SVC using a training set size of 100. . .\n",
      "Trained model in 0.0027 seconds\n",
      "Made predictions in 0.0018 seconds.\n",
      "F1 score for training set: 0.8919.\n",
      "Made predictions in 0.0016 seconds.\n",
      "F1 score for test set: 0.7737.\n",
      "\n",
      "\n",
      "Training a SVC using a training set size of 200. . .\n",
      "Trained model in 0.0080 seconds\n",
      "Made predictions in 0.0063 seconds.\n",
      "F1 score for training set: 0.8795.\n",
      "Made predictions in 0.0030 seconds.\n",
      "F1 score for test set: 0.8182.\n",
      "\n",
      "\n",
      "Training a SVC using a training set size of 300. . .\n",
      "Trained model in 0.0165 seconds\n",
      "Made predictions in 0.0129 seconds.\n",
      "F1 score for training set: 0.8664.\n",
      "Made predictions in 0.0042 seconds.\n",
      "F1 score for test set: 0.8289.\n",
      "\n",
      "\n"
     ]
    }
   ],
   "source": [
    "# TODO: Import the three supervised learning models from sklearn\n",
    "from sklearn import tree\n",
    "from sklearn import neighbors\n",
    "from sklearn import svm\n",
    "\n",
    "# TODO: Initialize the three models\n",
    "clf_A = tree.DecisionTreeClassifier(random_state=5442)\n",
    "clf_B = neighbors.KNeighborsClassifier()\n",
    "clf_C = svm.SVC()\n",
    "\n",
    "# TODO: Set up the training set sizes\n",
    "X_train_100 = X_train[:100]\n",
    "y_train_100 = y_train[:100]\n",
    "\n",
    "X_train_200 = X_train[:200]\n",
    "y_train_200 = y_train[:200]\n",
    "\n",
    "X_train_300 = X_train[:300]\n",
    "y_train_300 = y_train[:300]\n",
    "\n",
    "# TODO: Execute the 'train_predict' function for each classifier and each training set size\n",
    "# train_predict(clf, X_train, y_train, X_test, y_test)\n",
    "for clf in [clf_A, clf_B, clf_C]:\n",
    "    print(clf)\n",
    "    print('\\n')\n",
    "    for (X, y) in [(X_train_100, y_train_100), (X_train_200, y_train_200), (X_train_300, y_train_300)]:\n",
    "        train_predict(clf, X, y, X_test, y_test)\n",
    "        if clf == clf_A:\n",
    "            print(\"Max tree depth: \" + str(clf.tree_.max_depth))\n",
    "        print('\\n')"
   ]
  },
  {
   "cell_type": "markdown",
   "metadata": {},
   "source": [
    "### Tabular Results\n",
    "Edit the cell below to see how a table can be designed in [Markdown](https://github.com/adam-p/markdown-here/wiki/Markdown-Cheatsheet#tables). You can record your results from above in the tables provided."
   ]
  },
  {
   "cell_type": "markdown",
   "metadata": {},
   "source": [
    "** Classifer 1 - DTC**  \n",
    "\n",
    "| Training Set Size | Prediction Time (train) | Prediction Time (test) | F1 Score (train) | F1 Score (test) |\n",
    "| :---------------: | :---------------------: | :--------------------: | :--------------: | :-------------: |\n",
    "|100|0.0005|0.0003|1.0000|0.7167|\n",
    "|200|0.0003|0.0003|1.0000|0.7480|\n",
    "|300|0.0004|0.0003|1.0000|0.7121|\n",
    "\n",
    "** Classifer 2 - KNN**  \n",
    "\n",
    "| Training Set Size | Prediction Time (train) | Prediction Time (test) | F1 Score (train) | F1 Score (test) |\n",
    "| :---------------: | :---------------------: | :--------------------: | :--------------: | :-------------: |\n",
    "|100|0.0027|0.0024|0.8592|0.7910|\n",
    "|200|0.0071|0.0037|0.8425|0.7941|\n",
    "|300|0.0147|0.0052|0.8688|0.7714|\n",
    "\n",
    "** Classifer 3 - SVC**  \n",
    "\n",
    "| Training Set Size | Prediction Time (train) | Prediction Time (test) | F1 Score (train) | F1 Score (test) |\n",
    "| :---------------: | :---------------------: | :--------------------: | :--------------: | :-------------: |\n",
    "|100|0.0018|0.0016|0.8919|0.7737|\n",
    "|200|0.0063|0.0030|0.8795|0.8182|\n",
    "|300|0.0129|0.0042|0.8664|0.8289|"
   ]
  },
  {
   "cell_type": "code",
   "execution_count": 16,
   "metadata": {
    "collapsed": false
   },
   "outputs": [
    {
     "name": "stdout",
     "output_type": "stream",
     "text": [
      "Baseline f1 score: 0.8050\n"
     ]
    }
   ],
   "source": [
    "baseline_predictions = ['yes'] * y_test.shape[0]\n",
    "f1_baseline = f1_score(y_test, baseline_predictions, pos_label='yes')\n",
    "print('Baseline f1 score: {:.4f}'.format(f1_baseline))"
   ]
  },
  {
   "cell_type": "markdown",
   "metadata": {},
   "source": [
    "## Choosing the Best Model\n",
    "In this final section, you will choose from the three supervised learning models the *best* model to use on the student data. You will then perform a grid search optimization for the model over the entire training set (`X_train` and `y_train`) by tuning at least one parameter to improve upon the untuned model's F<sub>1</sub> score. "
   ]
  },
  {
   "cell_type": "markdown",
   "metadata": {},
   "source": [
    "### Question 3 - Chosing the Best Model\n",
    "*Based on the experiments you performed earlier, in one to two paragraphs, explain to the board of supervisors what single model you chose as the best model. Which model is generally the most appropriate based on the available data, limited resources, cost, and performance?*"
   ]
  },
  {
   "cell_type": "markdown",
   "metadata": {},
   "source": [
    "**Answer: Selected Model - SVC**\n",
    "\n",
    "**Based on the above, the SVC is selected for two reasons. First, of all the models, it is only the SVC that got a better F1 score than the baseline F1. The DTC model has a perfect F1 score for the training data but does much worse on the testing data, a clear sign of overfitting. In contrast, the F1 scores for the KNN model are much more similar, although the KNN's F1 scores on the testing data are still lower than the baseline.**\n",
    "\n",
    "**In addition, prediction using the KNN is much slower. Prediction requires loading all, or a significant franctionof of, the data to find the K closest neighbors. Given the computational restraints the school board has, the KNN model is not appropriate.**"
   ]
  },
  {
   "cell_type": "markdown",
   "metadata": {},
   "source": [
    "### Question 4 - Model in Layman's Terms\n",
    "*In one to two paragraphs, explain to the board of directors in layman's terms how the final model chosen is supposed to work. For example if you've chosen to use a decision tree or a support vector machine, how does the model go about making a prediction?*"
   ]
  },
  {
   "cell_type": "markdown",
   "metadata": {},
   "source": [
    "**Answer: Support Vector Classifiers (SVCs) are a type of classifier known as \"supervisied learning\" where the model works in two broad steps: (1) training; and (2) prediction. In the training step, the model takes data which includes the correct answer and builds a model from this data. In the prediction step, it uses this model to make a prediction on new data (i.e. data where the correct answer is not given). The details of how the two steps work vary with each model.**\n",
    "\n",
    "**Training - The basic SVC works to find a way to separate the data into two groups (\"yes\" and \"no\", \"red\" and \"blue\", etc...) e.g. in this case, those who graduated and those who didn't. It works in two steps:**\n",
    "\n",
    "1. Plot the data on a scatter plot.\n",
    "2. Find a line that (a) best separates the data into yes and no groups; and (b) leaves as much space between the line and the data as possible.\n",
    "\n",
    "**This can be seen in the figure below. Both lines A and B separate the data into yes and no (red and blue) groups. However, line A is preferred because it maximizes the space between the line and the data. The space on the scatter plot above the line is the \"red side\" and the space below the line is the \"blue side.\"**\n",
    "<img src=\"https://upload.wikimedia.org/wikipedia/commons/thumb/f/f2/Svm_intro.svg/2000px-Svm_intro.svg.png\" alt=\"Basic SVC\" style=\"width: 400px;\"/>\n",
    "\n",
    "**Sometimes it is not possible to find a line the separates the data. In order to deal with this, the SVC can use the data given to compute additioanl information and put that on a scatter plot. For example, in the figure below, the additional information computed is the \"distance from them middle.\" It can be seen that it is easier to separate the data into two groups in the second plot (with the additioanl information) than in the first one.**\n",
    "<img src=\"https://qph.is.quoracdn.net/main-qimg-de8f2ca9c807ee184e2509639fce066d?convert_to_webp=true\" alt=\"Kernel SVC\" style=\"width: 600px;\"/>\n",
    "\n",
    "**Note that perfect separation is not always possible. As such, the model will find the line that \"best separates\" the data into two groups, even if the separation is not perfect.**\"\n",
    "\n",
    "**Predicting - once the line has been found, the model can predict which group a new data point will fall into. Remember that the line separates the entire scatter plot into a \"yes\" space and a \"no\" space (or \"red\" and \"blue\", etc). The new point is plotted on the same scatter plot. If it on the \"yes\" side the model predicts \"yes\" and if it is on the \"no\" side the model predicts \"no.\" For example, in the first figure above, if the new point were above line A, it would predict \"red\" and if it were below line A it would predict \"blue.\"**"
   ]
  },
  {
   "cell_type": "markdown",
   "metadata": {},
   "source": [
    "### Implementation: Model Tuning\n",
    "Fine tune the chosen model. Use grid search (`GridSearchCV`) with at least one important parameter tuned with at least 3 different values. You will need to use the entire training set for this. In the code cell below, you will need to implement the following:\n",
    "- Import [`sklearn.grid_search.gridSearchCV`](http://scikit-learn.org/stable/modules/generated/sklearn.grid_search.GridSearchCV.html) and [`sklearn.metrics.make_scorer`](http://scikit-learn.org/stable/modules/generated/sklearn.metrics.make_scorer.html).\n",
    "- Create a dictionary of parameters you wish to tune for the chosen model.\n",
    " - Example: `parameters = {'parameter' : [list of values]}`.\n",
    "- Initialize the classifier you've chosen and store it in `clf`.\n",
    "- Create the F<sub>1</sub> scoring function using `make_scorer` and store it in `f1_scorer`.\n",
    " - Set the `pos_label` parameter to the correct value!\n",
    "- Perform grid search on the classifier `clf` using `f1_scorer` as the scoring method, and store it in `grid_obj`.\n",
    "- Fit the grid search object to the training data (`X_train`, `y_train`), and store it in `grid_obj`."
   ]
  },
  {
   "cell_type": "code",
   "execution_count": 10,
   "metadata": {
    "collapsed": false
   },
   "outputs": [
    {
     "name": "stdout",
     "output_type": "stream",
     "text": [
      "Setting parameters\n",
      "Initializing classifiers\n",
      "Making scorers\n",
      "Initiazling gird search\n",
      "Fitting grid\n",
      "Fitting 3 folds for each of 288 candidates, totalling 864 fits\n"
     ]
    },
    {
     "name": "stderr",
     "output_type": "stream",
     "text": [
      "[Parallel(n_jobs=1)]: Done  49 tasks       | elapsed:    0.9s\n",
      "[Parallel(n_jobs=1)]: Done 199 tasks       | elapsed:    3.5s\n",
      "[Parallel(n_jobs=1)]: Done 449 tasks       | elapsed:    9.8s\n",
      "[Parallel(n_jobs=1)]: Done 799 tasks       | elapsed:  1.7min\n"
     ]
    },
    {
     "name": "stdout",
     "output_type": "stream",
     "text": [
      "{'n_jobs': 1, 'verbose': 1, 'estimator__gamma': 'auto', 'estimator__decision_function_shape': None, 'estimator__probability': False, 'param_grid': {'kernel': ['linear', 'rbf', 'sigmoid', 'poly'], 'C': [0.03125, 0.125, 0.5, 2, 8, 32], 'gamma': [0.0006510416666666666, 0.010416666666666666, 0], 'degree': [0, 1, 2, 3]}, 'cv': None, 'scoring': make_scorer(f1_score, pos_label=yes), 'estimator__cache_size': 200, 'estimator__verbose': False, 'pre_dispatch': '2*n_jobs', 'estimator__kernel': 'rbf', 'fit_params': {}, 'estimator__max_iter': -1, 'refit': True, 'iid': True, 'estimator__shrinking': True, 'estimator__degree': 3, 'estimator__class_weight': None, 'estimator__C': 1.0, 'estimator__random_state': None, 'estimator': SVC(C=1.0, cache_size=200, class_weight=None, coef0=0.0,\n",
      "  decision_function_shape=None, degree=3, gamma='auto', kernel='rbf',\n",
      "  max_iter=-1, probability=False, random_state=None, shrinking=True,\n",
      "  tol=0.001, verbose=False), 'estimator__coef0': 0.0, 'error_score': 'raise', 'estimator__tol': 0.001}\n",
      "Made predictions in 0.0090 seconds.\n",
      "Tuned model has a training F1 score of 0.8305.\n",
      "Made predictions in 0.0030 seconds.\n",
      "Tuned model has a testing F1 score of 0.8105.\n"
     ]
    },
    {
     "name": "stderr",
     "output_type": "stream",
     "text": [
      "[Parallel(n_jobs=1)]: Done 864 out of 864 | elapsed:  2.5min finished\n"
     ]
    }
   ],
   "source": [
    "# TODO: Import 'gridSearchCV' and 'make_scorer'\n",
    "from sklearn.grid_search import GridSearchCV\n",
    "from sklearn.metrics import make_scorer\n",
    "\n",
    "# TODO: Create the parameters list you wish to tune\n",
    "print(\"Setting parameters\")\n",
    "n_features_2 = len(X_train.columns)\n",
    "parameters = {\n",
    "                'C' : [pow(2, x) for x in range(-5, 6, 2)],\n",
    "                'kernel' : ['linear', 'rbf', 'sigmoid', 'poly'],#'poly'\n",
    "                'degree' : list(range(0, 4)),\n",
    "                'gamma' : [pow(2, x)/n_features_2 for x in range(-5, 6, 4)]\n",
    "             }\n",
    "\n",
    "# TODO: Initialize the classifier\n",
    "print(\"Initializing classifiers\")\n",
    "clf = svm.SVC()\n",
    "\n",
    "# TODO: Make an f1 scoring function using 'make_scorer' \n",
    "print(\"Making scorers\")\n",
    "f1_scorer = make_scorer(f1_score, pos_label='yes')\n",
    "\n",
    "# TODO: Perform grid search on the classifier using the f1_scorer as the scoring method\n",
    "print(\"Initiazling gird search\")\n",
    "grid_obj = GridSearchCV(clf, parameters, verbose=1, scoring=f1_scorer)\n",
    "\n",
    "# TODO: Fit the grid search object to the training data and find the optimal parameters\n",
    "print(\"Fitting grid\")\n",
    "grid_obj.fit(X_train, y_train)\n",
    "print(grid_obj.get_params())\n",
    "\n",
    "# Get the estimator\n",
    "clf = grid_obj.best_estimator_\n",
    "\n",
    "# Report the final F1 score for training and testing after parameter tuning\n",
    "print \"Tuned model has a training F1 score of {:.4f}.\".format(predict_labels(clf, X_train, y_train))\n",
    "print \"Tuned model has a testing F1 score of {:.4f}.\".format(predict_labels(clf, X_test, y_test))"
   ]
  },
  {
   "cell_type": "markdown",
   "metadata": {},
   "source": [
    "### Question 5 - Final F<sub>1</sub> Score\n",
    "*What is the final model's F<sub>1</sub> score for training and testing? How does that score compare to the untuned model?*"
   ]
  },
  {
   "cell_type": "markdown",
   "metadata": {},
   "source": [
    "**Answer: See table below.**\n",
    "\n",
    "|Model|F1 (Training Data)|F1 (Testing Data)|\n",
    "|:-:|:-:|:-:|\n",
    "|Tuned|0.8305|0.8105|\n",
    "|Untuned 100|0.8919|0.7737|\n",
    "|Untuned 200|0.8795|0.8182|\n",
    "|Untuned 300|0.8664|0.8289|\n",
    "\n",
    "The tuned model did worse on the training data than any untuned model and worse on the testing data than on two of the three untuned models. I'm not sure why this is happening."
   ]
  },
  {
   "cell_type": "markdown",
   "metadata": {},
   "source": [
    "> **Note**: Once you have completed all of the code implementations and successfully answered each question above, you may finalize your work by exporting the iPython Notebook as an HTML document. You can do this by using the menu above and navigating to  \n",
    "**File -> Download as -> HTML (.html)**. Include the finished document along with this notebook as your submission."
   ]
  }
 ],
 "metadata": {
  "kernelspec": {
   "display_name": "Python 2",
   "language": "python",
   "name": "python2"
  },
  "language_info": {
   "codemirror_mode": {
    "name": "ipython",
    "version": 2
   },
   "file_extension": ".py",
   "mimetype": "text/x-python",
   "name": "python",
   "nbconvert_exporter": "python",
   "pygments_lexer": "ipython2",
   "version": "2.7.11"
  }
 },
 "nbformat": 4,
 "nbformat_minor": 0
}
